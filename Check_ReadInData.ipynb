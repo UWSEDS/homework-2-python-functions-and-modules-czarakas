{
 "cells": [
  {
   "cell_type": "markdown",
   "metadata": {},
   "source": [
    "## HW2\n",
    "\n",
    "Claire Zarakas"
   ]
  },
  {
   "cell_type": "markdown",
   "metadata": {},
   "source": [
    "## Set Up Workspace"
   ]
  },
  {
   "cell_type": "code",
   "execution_count": 1,
   "metadata": {},
   "outputs": [],
   "source": [
    "import ReadInData"
   ]
  },
  {
   "cell_type": "code",
   "execution_count": 2,
   "metadata": {},
   "outputs": [],
   "source": [
    "thisurl = 'https://data.seattle.gov/api/views/65db-xm6k/rows.csv?accessType=DOWNLOAD'\n",
    "columnNames_true = ['Date','Fremont Bridge East Sidewalk','Fremont Bridge West Sidewalk']\n",
    "df = ReadInData.create_dataframe(url=thisurl)"
   ]
  },
  {
   "cell_type": "markdown",
   "metadata": {},
   "source": [
    "## Check that the function *test_create_dataframe* works as expected"
   ]
  },
  {
   "cell_type": "markdown",
   "metadata": {},
   "source": [
    "#### TEST 1:\n",
    "#### *Without changing anything, should return True*"
   ]
  },
  {
   "cell_type": "code",
   "execution_count": 3,
   "metadata": {},
   "outputs": [
    {
     "name": "stdout",
     "output_type": "stream",
     "text": [
      "Passes Test 1\n"
     ]
    }
   ],
   "source": [
    "if ReadInData.test_create_dataframe(df,columnNames_true):\n",
    "    print('Passes Test 1')\n",
    "else:\n",
    "    print('Fails Test 1')"
   ]
  },
  {
   "cell_type": "markdown",
   "metadata": {},
   "source": [
    "#### TEST 2: \n",
    "#### *Test how well the functions checks if the DataFrame contains only the columns specified by the second argument*\n"
   ]
  },
  {
   "cell_type": "code",
   "execution_count": 4,
   "metadata": {},
   "outputs": [
    {
     "name": "stdout",
     "output_type": "stream",
     "text": [
      "Passes Test 2\n"
     ]
    }
   ],
   "source": [
    "######################## Column name lists to test ############################\n",
    "expected_results = [True, False, False, False]\n",
    "## Same column names in different order\n",
    "columnNames_test1 = ['Fremont Bridge East Sidewalk', 'Date', 'Fremont Bridge West Sidewalk'] ## Should return True\n",
    "\n",
    "## Same column names but missing one\n",
    "columnNames_test2 = ['Date', 'Fremont Bridge East Sidewalk'] ## Should return False\n",
    "\n",
    "## Same column names but added one\n",
    "columnNames_test3 = ['Date', 'Fremont Bridge East Sidewalk', 'Fremont Bridge West Sidewalk', 'Extra Entry'] ## Should return False\n",
    "\n",
    "## Missing one column names, one extra column name\n",
    "columnNames_test4 = ['Date', 'Fremont Bridge East Sidewalk', 'Extra Entry'] ## Should return False\n",
    "\n",
    "colTests = [columnNames_test1, columnNames_test2, columnNames_test3, columnNames_test4]\n",
    "\n",
    "######################## Run tests ############################\n",
    "passCheck = True\n",
    "for i in range(0,len(colTests)):\n",
    "    if expected_results[i] != ReadInData.test_create_dataframe(df,colTests[i]):\n",
    "        passCheck = False\n",
    "        break\n",
    "if passCheck:\n",
    "    print('Passes Test 2')\n",
    "else:\n",
    "    print('Fails Test 2')"
   ]
  },
  {
   "cell_type": "markdown",
   "metadata": {},
   "source": [
    "#### TEST 3: \n",
    "#### *Test how well the functions checks if there are at least 10 rows in the DataFrame*"
   ]
  },
  {
   "cell_type": "code",
   "execution_count": 5,
   "metadata": {},
   "outputs": [
    {
     "name": "stdout",
     "output_type": "stream",
     "text": [
      "Passes Test 3\n"
     ]
    }
   ],
   "source": [
    "df_alt = df.iloc[0:5]\n",
    "if ReadInData.test_create_dataframe(df_alt,columnNames_true):\n",
    "    print('Fails Test 3')\n",
    "else:\n",
    "    print('Passes Test 3')"
   ]
  },
  {
   "cell_type": "markdown",
   "metadata": {},
   "source": [
    "### TEST 4: DOESN'T WORK\n",
    "### *Test how well the functions checks that the values in each column have the same python type*"
   ]
  },
  {
   "cell_type": "code",
   "execution_count": 7,
   "metadata": {},
   "outputs": [
    {
     "name": "stdout",
     "output_type": "stream",
     "text": [
      "Passes Test 4\n"
     ]
    },
    {
     "name": "stderr",
     "output_type": "stream",
     "text": [
      "/Users/clairezarakas/anaconda3/lib/python3.6/site-packages/ipykernel_launcher.py:3: SettingWithCopyWarning: \n",
      "A value is trying to be set on a copy of a slice from a DataFrame\n",
      "\n",
      "See the caveats in the documentation: http://pandas.pydata.org/pandas-docs/stable/indexing.html#indexing-view-versus-copy\n",
      "  This is separate from the ipykernel package so we can avoid doing imports until\n",
      "/Users/clairezarakas/anaconda3/lib/python3.6/site-packages/ipykernel_launcher.py:4: SettingWithCopyWarning: \n",
      "A value is trying to be set on a copy of a slice from a DataFrame\n",
      "\n",
      "See the caveats in the documentation: http://pandas.pydata.org/pandas-docs/stable/indexing.html#indexing-view-versus-copy\n",
      "  after removing the cwd from sys.path.\n"
     ]
    }
   ],
   "source": [
    "df_alt1 = df\n",
    "df_alt2 = df\n",
    "df_alt1['Date'][5]=7\n",
    "df_alt2['Fremont Bridge West Sidewalk'][5]='No Data'\n",
    "if not (ReadInData.test_create_dataframe(df_alt1,columnNames_true)):\n",
    "    if not (ReadInData.test_create_dataframe(df_alt2,columnNames_true)):\n",
    "        print('Passes Test 4')\n",
    "    else:\n",
    "        print('Fails Test 4')\n",
    "else:\n",
    "    print('Fails Test 4')"
   ]
  }
 ],
 "metadata": {
  "kernelspec": {
   "display_name": "Python 3",
   "language": "python",
   "name": "python3"
  },
  "language_info": {
   "codemirror_mode": {
    "name": "ipython",
    "version": 3
   },
   "file_extension": ".py",
   "mimetype": "text/x-python",
   "name": "python",
   "nbconvert_exporter": "python",
   "pygments_lexer": "ipython3",
   "version": "3.6.6"
  }
 },
 "nbformat": 4,
 "nbformat_minor": 2
}
